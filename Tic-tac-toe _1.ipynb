{
 "cells": [
  {
   "cell_type": "markdown",
   "metadata": {},
   "source": [
    "## Tic-tac toe"
   ]
  },
  {
   "cell_type": "markdown",
   "metadata": {},
   "source": [
    "    This my first ever python mini prject which I felt like sharing\n",
    "   "
   ]
  },
  {
   "cell_type": "markdown",
   "metadata": {},
   "source": [
    " **Tic-tac-toe tutorial**"
   ]
  },
  {
   "cell_type": "code",
   "execution_count": 1,
   "metadata": {},
   "outputs": [
    {
     "data": {
      "text/html": [
       "<iframe width=\"560\" height=\"315\" src=\"https://www.youtube.com/embed/5SdW0_wTX5c\" frameborder=\"0\" allowfullscreen></iframe>\n"
      ],
      "text/plain": [
       "<IPython.core.display.HTML object>"
      ]
     },
     "metadata": {},
     "output_type": "display_data"
    }
   ],
   "source": [
    "\n",
    "%%HTML\n",
    "<iframe width=\"560\" height=\"315\" src=\"https://www.youtube.com/embed/5SdW0_wTX5c\" frameborder=\"0\" allowfullscreen></iframe>\n"
   ]
  },
  {
   "cell_type": "markdown",
   "metadata": {},
   "source": [
    "\n",
    "    Just few ways of winning the game"
   ]
  },
  {
   "cell_type": "code",
   "execution_count": 2,
   "metadata": {},
   "outputs": [
    {
     "data": {
      "text/html": [
       "<img src=\"https://upload.wikimedia.org/wikipedia/commons/thumb/3/32/Tic_tac_toe.svg/1200px-Tic_tac_toe.svg.png\" width=\"300\" height=\"400\" style=\"float:left\">\n",
       "<img src=\"https://vignette.wikia.nocookie.net/board-games-galore/images/4/47/Tictactoe-winning-vector-639732.jpg/revision/latest?cb=20160711013756\" width=\"300\" height=\"400\"style=\"float:right\">\n"
      ],
      "text/plain": [
       "<IPython.core.display.HTML object>"
      ]
     },
     "metadata": {},
     "output_type": "display_data"
    }
   ],
   "source": [
    "%%HTML\n",
    "<img src=\"https://upload.wikimedia.org/wikipedia/commons/thumb/3/32/Tic_tac_toe.svg/1200px-Tic_tac_toe.svg.png\" width=\"300\" height=\"400\" style=\"float:left\">\n",
    "<img src=\"https://vignette.wikia.nocookie.net/board-games-galore/images/4/47/Tictactoe-winning-vector-639732.jpg/revision/latest?cb=20160711013756\" width=\"300\" height=\"400\"style=\"float:right\">"
   ]
  },
  {
   "cell_type": "markdown",
   "metadata": {},
   "source": [
    "    Creating 3*3 tic-tac-toe board"
   ]
  },
  {
   "cell_type": "code",
   "execution_count": 3,
   "metadata": {},
   "outputs": [],
   "source": [
    "a=[\" \",\" \",\" \",\" \",\" \",\" \",\" \",\" \",\" \"]\n",
    "\n",
    "def board(a):\n",
    "    \n",
    "    print(\"\",a[0],\"|\",a[1],\"|\",a[2],\"\\n\",\"_________\",\"\\n\",a[3],\"|\",a[4],\"|\",a[5],\"\\n\",\"_________\",\"\\n\",a[6],\"|\",a[7],\"|\",a[8],)"
   ]
  },
  {
   "cell_type": "markdown",
   "metadata": {},
   "source": [
    "    Function to empty the board after each game"
   ]
  },
  {
   "cell_type": "code",
   "execution_count": 4,
   "metadata": {},
   "outputs": [],
   "source": [
    "def empty():\n",
    "    print(\"\\nEmpty board\\n\")\n",
    "    a=[\" \",\" \",\" \",\" \",\" \",\" \",\" \",\" \",\" \"]\n",
    "    print(\"\",a[0],\"|\",a[1],\"|\",a[2],\"\\n\",\"_________\",\"\\n\",a[3],\"|\",a[4],\"|\",a[5],\"\\n\",\"_________\",\"\\n\",a[6],\"|\",a[7],\"|\",a[8],)"
   ]
  },
  {
   "cell_type": "markdown",
   "metadata": {},
   "source": [
    "    Defining the position of the board"
   ]
  },
  {
   "cell_type": "code",
   "execution_count": 5,
   "metadata": {},
   "outputs": [],
   "source": [
    "def position():\n",
    "    print(\"\\nPositions in the board\\n\")\n",
    "    a=[\"0\",\"1\",\"2\",\"3\",\"4\",\"5\",\"6\",\"7\",\"8\"]\n",
    "    print(\"\",a[0],\"|\",a[1],\"|\",a[2],\"\\n\",\"_________\",\"\\n\",a[3],\"|\",a[4],\"|\",a[5],\"\\n\",\"_________\",\"\\n\",a[6],\"|\",a[7],\"|\",a[8],)"
   ]
  },
  {
   "cell_type": "markdown",
   "metadata": {},
   "source": [
    "    Checking wheter the players are ready to play the game"
   ]
  },
  {
   "cell_type": "code",
   "execution_count": 6,
   "metadata": {},
   "outputs": [],
   "source": [
    "def ready():\n",
    "    \n",
    "    ready_1=input(\"Player 1 are you ready to play the game - \").lower()\n",
    "    ready_2=input(\"Player 2 are you ready to play the game - \").lower()\n",
    "    \n",
    "    if ready_1==\"yes\" and ready_2==\"yes\":\n",
    "        return \n",
    "    \n",
    "    else:\n",
    "        \n",
    "        print(\"Player is not ready\")\n",
    "        print(\"Please be ready to play the game\")\n",
    "        \n",
    "        #Keep asking the players untill they are ready\n",
    "        \n",
    "        ready()"
   ]
  },
  {
   "cell_type": "markdown",
   "metadata": {},
   "source": [
    "    When game is draw "
   ]
  },
  {
   "cell_type": "code",
   "execution_count": 7,
   "metadata": {},
   "outputs": [],
   "source": [
    "\n",
    "def draw(a):\n",
    "    if \" \" not in a:\n",
    "        print(\"Game Draw\")\n",
    "        \n",
    "        #Asking if user wish to play another game\n",
    "        \n",
    "        another()"
   ]
  },
  {
   "cell_type": "markdown",
   "metadata": {},
   "source": [
    "    Function to ask if the user is interested in another game"
   ]
  },
  {
   "cell_type": "code",
   "execution_count": 8,
   "metadata": {},
   "outputs": [],
   "source": [
    "import sys   #Library which contains exit command\n",
    "\n",
    "def another():\n",
    "    \n",
    "    again=input(\"Do you wish to play another game: \").lower()\n",
    "    \n",
    "    if again==\"yes\":\n",
    "        ready()\n",
    "        empty()\n",
    "        position()\n",
    "        X_or_O()\n",
    "    \n",
    "    else:\n",
    "        \n",
    "        #Terminate the game\n",
    "        raise SystemExit(\"Thank you\")"
   ]
  },
  {
   "cell_type": "code",
   "execution_count": 9,
   "metadata": {},
   "outputs": [],
   "source": [
    "def Game_over():\n",
    "    print(\"Game over\")\n",
    "    another()"
   ]
  },
  {
   "cell_type": "markdown",
   "metadata": {},
   "source": [
    "    Checking if its game"
   ]
  },
  {
   "cell_type": "code",
   "execution_count": 10,
   "metadata": {},
   "outputs": [],
   "source": [
    "    \n",
    "def game(a,i):\n",
    "    import sys\n",
    "    if (a[0]==a[3]==a[6]==\"X\") or (a[0]==a[3]==a[6]==\"O\") or( a[0]==a[1]==a[2]==\"X\") or ( a[0]==a[1]==a[2]==\"O\")or( a[0]==a[4]==a[8]==\"X\") or( a[0]==a[4]==a[8]==\"O\") or (a[1]==a[4]==a[7]==\"X\") or (a[1]==a[4]==a[7]==\"O\") or(a[2]==a[5]==a[8]==\"X\") or (a[2]==a[5]==a[8]==\"O\") or (a[2]==a[4]==a[6]==\"X\") or(a[2]==a[4]==a[6]==\"O\") or (a[3]==a[4]==a[5]==\"X\") or (a[3]==a[4]==a[5]==\"O\") or  (a[6]==a[7]==a[8]==\"X\") or(a[6]==a[7]==a[8]==\"O\") :\n",
    "        print(\"Game\")\n",
    "        print(i,\"won the game\")\n",
    "        Game_over()"
   ]
  },
  {
   "cell_type": "markdown",
   "metadata": {},
   "source": [
    "    The game"
   ]
  },
  {
   "cell_type": "code",
   "execution_count": 11,
   "metadata": {},
   "outputs": [],
   "source": [
    "import random\n",
    "\n",
    "def X_or_O():\n",
    "    \n",
    "    \n",
    "    a=[\" \",\" \",\" \",\" \",\" \",\" \",\" \",\" \",\" \"]\n",
    "    \n",
    "    choice_1=['player_1','player_2']\n",
    "    \n",
    "    #Randomly choosing the first player\n",
    "    \n",
    "    choice=[random.choice(['player_1','player_2'])]\n",
    "    \n",
    "    #Asking the choice of randomly chosen player\n",
    "    \n",
    "    choice_X_or_O= input(choice[0]+\" choose X or O :\").upper()\n",
    "    \n",
    "    X_O=[\"X\",\"O\"]\n",
    "    \n",
    "    X_O.remove(str(choice_X_or_O))\n",
    "    \n",
    "    choice_1.remove(choice[0])\n",
    "    \n",
    "    player_order=[choice[0],choice_1[0]]\n",
    "    \n",
    "    dict_player={choice[0]:str(choice_X_or_O),str(choice_1[0]):str(X_O[0])}\n",
    "    \n",
    "    print(player_order)\n",
    "    \n",
    "    print(choice[0],\"chooses :\",choice_X_or_O,\"and\",choice_1[0],\"chooses :\", X_O[0])\n",
    "    \n",
    "    print(choice[0],\"goes first\")\n",
    "    \n",
    "    print(dict_player) \n",
    "    \n",
    "    \n",
    "    for i in range(5): \n",
    "        \n",
    "        for i in player_order:\n",
    "            \n",
    "            #Asking player for their choice\n",
    "            \n",
    "            pos=input(i +\" choose your position \")\n",
    "            \n",
    "            a[int(pos)]=str(dict_player[str(i)])\n",
    "            \n",
    "            print(a)\n",
    "            \n",
    "            #Print the board after each play\n",
    "            \n",
    "            board(a)\n",
    "            \n",
    "            #Checking if its draw after each play\n",
    "            \n",
    "            draw(a)\n",
    "            \n",
    "            #Checking if its game after each play\n",
    "            \n",
    "            game(a,i)"
   ]
  },
  {
   "cell_type": "markdown",
   "metadata": {},
   "source": [
    "    Putting it all together"
   ]
  },
  {
   "cell_type": "code",
   "execution_count": 12,
   "metadata": {
    "scrolled": true
   },
   "outputs": [
    {
     "name": "stdout",
     "output_type": "stream",
     "text": [
      "Player 1 are you ready to play the game - yes\n",
      "Player 2 are you ready to play the game - no\n",
      "Player is not ready\n",
      "Please be ready to play the game\n",
      "Player 1 are you ready to play the game - yes\n",
      "Player 2 are you ready to play the game - yes\n",
      "\n",
      "Empty board\n",
      "\n",
      "   |   |   \n",
      " _________ \n",
      "   |   |   \n",
      " _________ \n",
      "   |   |  \n",
      "\n",
      "Positions in the board\n",
      "\n",
      " 0 | 1 | 2 \n",
      " _________ \n",
      " 3 | 4 | 5 \n",
      " _________ \n",
      " 6 | 7 | 8\n",
      "player_2 choose X or O :o\n",
      "['player_2', 'player_1']\n",
      "player_2 chooses : O and player_1 chooses : X\n",
      "player_2 goes first\n",
      "{'player_2': 'O', 'player_1': 'X'}\n",
      "player_2 choose your position 0\n",
      "['O', ' ', ' ', ' ', ' ', ' ', ' ', ' ', ' ']\n",
      " O |   |   \n",
      " _________ \n",
      "   |   |   \n",
      " _________ \n",
      "   |   |  \n",
      "player_1 choose your position 1\n",
      "['O', 'X', ' ', ' ', ' ', ' ', ' ', ' ', ' ']\n",
      " O | X |   \n",
      " _________ \n",
      "   |   |   \n",
      " _________ \n",
      "   |   |  \n",
      "player_2 choose your position 2\n",
      "['O', 'X', 'O', ' ', ' ', ' ', ' ', ' ', ' ']\n",
      " O | X | O \n",
      " _________ \n",
      "   |   |   \n",
      " _________ \n",
      "   |   |  \n",
      "player_1 choose your position 4\n",
      "['O', 'X', 'O', ' ', 'X', ' ', ' ', ' ', ' ']\n",
      " O | X | O \n",
      " _________ \n",
      "   | X |   \n",
      " _________ \n",
      "   |   |  \n",
      "player_2 choose your position 7\n",
      "['O', 'X', 'O', ' ', 'X', ' ', ' ', 'O', ' ']\n",
      " O | X | O \n",
      " _________ \n",
      "   | X |   \n",
      " _________ \n",
      "   | O |  \n",
      "player_1 choose your position 8\n",
      "['O', 'X', 'O', ' ', 'X', ' ', ' ', 'O', 'X']\n",
      " O | X | O \n",
      " _________ \n",
      "   | X |   \n",
      " _________ \n",
      "   | O | X\n",
      "player_2 choose your position 6\n",
      "['O', 'X', 'O', ' ', 'X', ' ', 'O', 'O', 'X']\n",
      " O | X | O \n",
      " _________ \n",
      "   | X |   \n",
      " _________ \n",
      " O | O | X\n",
      "player_1 choose your position 3\n",
      "['O', 'X', 'O', 'X', 'X', ' ', 'O', 'O', 'X']\n",
      " O | X | O \n",
      " _________ \n",
      " X | X |   \n",
      " _________ \n",
      " O | O | X\n",
      "player_2 choose your position 5\n",
      "['O', 'X', 'O', 'X', 'X', 'O', 'O', 'O', 'X']\n",
      " O | X | O \n",
      " _________ \n",
      " X | X | O \n",
      " _________ \n",
      " O | O | X\n",
      "Game Draw\n",
      "Do you wish to play another game: yes\n",
      "Player 1 are you ready to play the game - yes\n",
      "Player 2 are you ready to play the game - yes\n",
      "\n",
      "Empty board\n",
      "\n",
      "   |   |   \n",
      " _________ \n",
      "   |   |   \n",
      " _________ \n",
      "   |   |  \n",
      "\n",
      "Positions in the board\n",
      "\n",
      " 0 | 1 | 2 \n",
      " _________ \n",
      " 3 | 4 | 5 \n",
      " _________ \n",
      " 6 | 7 | 8\n",
      "player_1 choose X or O :O\n",
      "['player_1', 'player_2']\n",
      "player_1 chooses : O and player_2 chooses : X\n",
      "player_1 goes first\n",
      "{'player_1': 'O', 'player_2': 'X'}\n",
      "player_1 choose your position 0\n",
      "['O', ' ', ' ', ' ', ' ', ' ', ' ', ' ', ' ']\n",
      " O |   |   \n",
      " _________ \n",
      "   |   |   \n",
      " _________ \n",
      "   |   |  \n",
      "player_2 choose your position 1\n",
      "['O', 'X', ' ', ' ', ' ', ' ', ' ', ' ', ' ']\n",
      " O | X |   \n",
      " _________ \n",
      "   |   |   \n",
      " _________ \n",
      "   |   |  \n",
      "player_1 choose your position 2\n",
      "['O', 'X', 'O', ' ', ' ', ' ', ' ', ' ', ' ']\n",
      " O | X | O \n",
      " _________ \n",
      "   |   |   \n",
      " _________ \n",
      "   |   |  \n",
      "player_2 choose your position 3\n",
      "['O', 'X', 'O', 'X', ' ', ' ', ' ', ' ', ' ']\n",
      " O | X | O \n",
      " _________ \n",
      " X |   |   \n",
      " _________ \n",
      "   |   |  \n",
      "player_1 choose your position 4\n",
      "['O', 'X', 'O', 'X', 'O', ' ', ' ', ' ', ' ']\n",
      " O | X | O \n",
      " _________ \n",
      " X | O |   \n",
      " _________ \n",
      "   |   |  \n",
      "player_2 choose your position 5\n",
      "['O', 'X', 'O', 'X', 'O', 'X', ' ', ' ', ' ']\n",
      " O | X | O \n",
      " _________ \n",
      " X | O | X \n",
      " _________ \n",
      "   |   |  \n",
      "player_1 choose your position 6\n",
      "['O', 'X', 'O', 'X', 'O', 'X', 'O', ' ', ' ']\n",
      " O | X | O \n",
      " _________ \n",
      " X | O | X \n",
      " _________ \n",
      " O |   |  \n",
      "Game\n",
      "player_1 won the game\n",
      "Game over\n",
      "Do you wish to play another game: no\n"
     ]
    },
    {
     "ename": "SystemExit",
     "evalue": "Thank you",
     "output_type": "error",
     "traceback": [
      "An exception has occurred, use %tb to see the full traceback.\n",
      "\u001b[1;31mSystemExit\u001b[0m\u001b[1;31m:\u001b[0m Thank you\n"
     ]
    },
    {
     "name": "stderr",
     "output_type": "stream",
     "text": [
      "C:\\Users\\ullas kannantha\\Anaconda3\\lib\\site-packages\\IPython\\core\\interactiveshell.py:3425: UserWarning: To exit: use 'exit', 'quit', or Ctrl-D.\n",
      "  warn(\"To exit: use 'exit', 'quit', or Ctrl-D.\", stacklevel=1)\n"
     ]
    }
   ],
   "source": [
    "ready()\n",
    "\n",
    "empty()\n",
    "\n",
    "position()\n",
    "\n",
    "X_or_O()"
   ]
  },
  {
   "cell_type": "markdown",
   "metadata": {},
   "source": []
  },
  {
   "cell_type": "code",
   "execution_count": null,
   "metadata": {},
   "outputs": [],
   "source": []
  }
 ],
 "metadata": {
  "kernelspec": {
   "display_name": "Python 3",
   "language": "python",
   "name": "python3"
  },
  "language_info": {
   "codemirror_mode": {
    "name": "ipython",
    "version": 3
   },
   "file_extension": ".py",
   "mimetype": "text/x-python",
   "name": "python",
   "nbconvert_exporter": "python",
   "pygments_lexer": "ipython3",
   "version": "3.7.1"
  }
 },
 "nbformat": 4,
 "nbformat_minor": 4
}
